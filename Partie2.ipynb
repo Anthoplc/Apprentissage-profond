{
  "cells": [
    {
      "cell_type": "markdown",
      "metadata": {
        "id": "view-in-github",
        "colab_type": "text"
      },
      "source": [
        "<a href=\"https://colab.research.google.com/github/kilianBertholon/Apprentissage-profond/blob/main/Partie2.ipynb\" target=\"_parent\"><img src=\"https://colab.research.google.com/assets/colab-badge.svg\" alt=\"Open In Colab\"/></a>"
      ]
    },
    {
      "cell_type": "markdown",
      "metadata": {
        "id": "v8kRQlK8YGvL"
      },
      "source": [
        "# <center> Rendu Projet Apprentissage Profond </center>"
      ]
    },
    {
      "cell_type": "code",
      "source": [
        "!git clone https://github.com/kilianBertholon/Apprentissage-profond.git"
      ],
      "metadata": {
        "id": "UPBkiDgkYKVE",
        "outputId": "c6bd5740-f3df-43db-81f6-5412de3cdaaa",
        "colab": {
          "base_uri": "https://localhost:8080/"
        }
      },
      "execution_count": 1,
      "outputs": [
        {
          "output_type": "stream",
          "name": "stdout",
          "text": [
            "Cloning into 'Apprentissage-profond'...\n",
            "remote: Enumerating objects: 41, done.\u001b[K\n",
            "remote: Counting objects: 100% (9/9), done.\u001b[K\n",
            "remote: Compressing objects: 100% (8/8), done.\u001b[K\n",
            "remote: Total 41 (delta 2), reused 8 (delta 1), pack-reused 32\u001b[K\n",
            "Receiving objects: 100% (41/41), 105.92 MiB | 31.98 MiB/s, done.\n",
            "Resolving deltas: 100% (24/24), done.\n",
            "Updating files: 100% (29/29), done.\n"
          ]
        }
      ]
    },
    {
      "cell_type": "markdown",
      "metadata": {
        "id": "hQjsGX0rYGvN"
      },
      "source": [
        "Kilian Bertholon  \n",
        "Guillaume Cobat  \n",
        "Placé Anthony"
      ]
    },
    {
      "cell_type": "code",
      "execution_count": 5,
      "metadata": {
        "id": "g_jnr5yaYGvN",
        "outputId": "48bf4cf7-5ba0-4c91-b0c5-2174a80a5d85",
        "colab": {
          "base_uri": "https://localhost:8080/"
        }
      },
      "outputs": [
        {
          "output_type": "stream",
          "name": "stdout",
          "text": [
            "Lecture des données\n",
            "-- chargement des fichiers csv (observations + labels) --\n",
            "Data  ac59\n",
            "Data  f2ad\n",
            "Data  e90f\n",
            "Data  ac59\n",
            "Data  9bd4\n",
            "Data  0846\n",
            "Data  ce9d\n",
            "Data  2dd9\n",
            "Data  0846\n",
            "Data  9bd4\n",
            "Data  2dd9\n",
            "Data  05d8\n",
            "Data  10f0\n",
            "Data  4d70\n",
            "Data  c6f3\n",
            "Data  b512\n",
            "Data  a0da\n",
            "Data  10f0\n",
            "Data  f2ad\n",
            "Data  4991\n",
            "Data  ce9d\n",
            "Data  a0da\n",
            "Data  4d70\n",
            "Data  b512\n",
            "-- chargement du fichier json (meta données) --\n",
            "Données chargées\n",
            "[array([[ 1.616200e-01,  6.545400e-01,  2.271000e-02],\n",
            "       [ 1.172000e-02,  2.370600e-01,  8.936000e-02],\n",
            "       [-2.246000e-02,  1.894500e-01,  9.497000e-02],\n",
            "       [ 1.950000e-03,  1.044900e-01,  4.224000e-02],\n",
            "       [ 3.589000e-02,  1.103500e-01, -1.001000e-02],\n",
            "       [-2.588000e-02, -4.880000e-03,  8.667000e-02],\n",
            "       [-1.149900e-01,  1.685000e-02,  1.152300e-01],\n",
            "       [-7.764000e-02, -3.660000e-03,  7.446000e-02],\n",
            "       [-8.301000e-02, -4.370000e-02,  6.689000e-02],\n",
            "       [-9.717000e-02,  2.541500e-01, -2.319000e-02],\n",
            "       [-6.840000e-03,  5.556600e-01, -1.672400e-01],\n",
            "       [ 1.958000e-01,  1.055660e+00, -3.928200e-01],\n",
            "       [ 2.939500e-01,  1.903810e+00, -3.911100e-01],\n",
            "       [ 2.946800e-01,  2.179445e+00, -4.703350e-01],\n",
            "       [ 2.954100e-01,  2.455080e+00, -5.495600e-01],\n",
            "       [ 2.990700e-01,  2.797610e+00, -8.068800e-01],\n",
            "       [-1.025000e-02,  2.943360e+00, -8.164100e-01],\n",
            "       [-2.795400e-01,  3.763180e+00, -8.344700e-01],\n",
            "       [-4.543500e-01,  5.190920e+00, -1.006840e+00],\n",
            "       [-4.272500e-01,  5.848630e+00, -1.368900e+00],\n",
            "       [-8.273900e-01,  6.152340e+00, -1.826900e+00],\n",
            "       [-1.061520e+00,  6.241460e+00, -2.502440e+00],\n",
            "       [-9.216300e-01,  6.066890e+00, -2.626710e+00],\n",
            "       [-8.911100e-01,  5.841060e+00, -1.972660e+00],\n",
            "       [-9.697300e-01,  4.741210e+00, -1.170900e+00],\n",
            "       [-1.144780e+00,  3.432130e+00, -7.460900e-01],\n",
            "       [-5.048800e-01,  2.344480e+00, -8.349600e-01],\n",
            "       [ 3.405800e-01,  1.877690e+00, -5.976600e-01],\n",
            "       [ 1.019530e+00,  1.693360e+00, -1.525900e-01],\n",
            "       [ 1.419190e+00,  1.047120e+00,  4.418900e-01],\n",
            "       [ 1.393800e+00,  5.637200e-01,  1.399660e+00],\n",
            "       [ 1.080080e+00,  4.912100e-01,  1.187010e+00],\n",
            "       [ 1.358150e+00,  3.335000e-01,  3.149400e-01],\n",
            "       [ 1.651120e+00,  1.809100e-01,  1.826200e-01],\n",
            "       [ 1.401855e+00,  1.811550e-01,  3.972200e-01],\n",
            "       [ 1.152590e+00,  1.814000e-01,  6.118200e-01],\n",
            "       [ 1.064210e+00, -8.179000e-02,  8.388700e-01],\n",
            "       [ 1.202880e+00, -3.847700e-01,  7.321800e-01],\n",
            "       [ 1.021240e+00, -2.539100e-01,  5.161100e-01],\n",
            "       [ 6.142600e-01,  1.037600e-01,  2.558600e-01],\n",
            "       [ 2.043500e-01, -9.473000e-02,  2.465800e-01],\n",
            "       [ 1.611300e-01, -2.170400e-01,  2.409700e-01],\n",
            "       [ 2.612300e-01, -7.764000e-02,  1.638200e-01],\n",
            "       [ 2.824700e-01, -3.052000e-02,  1.059600e-01],\n",
            "       [ 3.027300e-01, -9.595000e-02,  1.215800e-01],\n",
            "       [ 3.161600e-01, -6.274000e-02,  1.774900e-01],\n",
            "       [ 2.678200e-01,  8.060000e-03,  2.751500e-01],\n",
            "       [ 1.975100e-01,  8.105000e-02,  3.298300e-01],\n",
            "       [ 2.063000e-01,  6.738000e-02,  3.305700e-01],\n",
            "       [ 2.419400e-01, -1.709000e-02,  2.839400e-01],\n",
            "       [ 2.148400e-01, -5.396000e-02,  2.368200e-01],\n",
            "       [ 1.352500e-01, -1.636000e-02,  2.131300e-01],\n",
            "       [ 9.253000e-02,  1.318000e-02,  2.334000e-01],\n",
            "       [ 1.430700e-01, -8.325000e-02,  2.336400e-01],\n",
            "       [ 2.099600e-01, -1.333000e-01,  2.016600e-01],\n",
            "       [ 2.327900e-01, -3.686500e-02,  2.336400e-01],\n",
            "       [ 2.556200e-01,  5.957000e-02,  2.656200e-01],\n",
            "       [ 3.208000e-01,  3.413100e-01,  3.396000e-01],\n",
            "       [ 4.240700e-01,  3.864700e-01,  3.483900e-01],\n",
            "       [ 5.761700e-01,  3.247100e-01,  4.231000e-01],\n",
            "       [ 6.850600e-01,  4.296900e-01,  4.892600e-01],\n",
            "       [ 5.722700e-01,  4.856000e-01,  3.447300e-01],\n",
            "       [ 1.811500e-01,  3.198200e-01,  2.214400e-01],\n",
            "       [-4.726600e-01,  1.127900e-01,  2.863800e-01],\n",
            "       [-1.559570e+00,  1.687000e-01,  4.736000e-02],\n",
            "       [-2.912350e+00,  3.034700e-01, -5.913100e-01],\n",
            "       [-3.392820e+00,  1.980000e-01, -3.671900e-01],\n",
            "       [-3.759520e+00,  1.899400e-01,  1.099000e-02],\n",
            "       [-3.725100e+00,  1.186040e+00, -3.759800e-01],\n",
            "       [-3.195560e+00,  1.527830e+00, -5.009800e-01],\n",
            "       [-3.093510e+00,  7.836900e-01, -3.501000e-01],\n",
            "       [-2.480710e+00,  1.385250e+00, -3.703600e-01],\n",
            "       [-2.250000e+00,  1.900390e+00, -4.931600e-01],\n",
            "       [-2.077640e+00,  1.634520e+00, -5.371100e-01],\n",
            "       [-1.426270e+00,  1.639890e+00, -7.270500e-01],\n",
            "       [-1.143070e+00,  1.168950e+00, -7.453600e-01]]), array([[ 0.30347,  0.14209,  0.58496],\n",
            "       [ 0.44995,  0.24365,  0.70679],\n",
            "       [ 0.51685,  0.17505,  0.59326],\n",
            "       ...,\n",
            "       [ 0.323  ,  0.3269 ,  3.47388],\n",
            "       [ 1.07715, -0.07544,  4.54272],\n",
            "       [ 1.2251 ,  0.69385,  5.54346]]), array([[ 1.97339 ,  1.76587 ,  5.76831 ],\n",
            "       [ 2.87549 ,  2.41284 ,  5.80103 ],\n",
            "       [ 4.36572 ,  3.42212 ,  3.69312 ],\n",
            "       [ 4.05225 ,  4.20605 ,  0.08008 ],\n",
            "       [ 3.27686 ,  3.74634 ,  0.51733 ],\n",
            "       [ 2.76855 ,  2.93921 ,  0.68579 ],\n",
            "       [ 2.16064 ,  2.5249  ,  0.10181 ],\n",
            "       [ 1.23071 ,  1.70996 ,  0.65918 ],\n",
            "       [ 0.18872 ,  0.95483 ,  0.65332 ],\n",
            "       [-0.45142 ,  0.99951 ,  1.29834 ],\n",
            "       [-0.59827 ,  1.00354 ,  1.27893 ],\n",
            "       [-0.74512 ,  1.00757 ,  1.25952 ],\n",
            "       [ 0.22461 ,  0.48413 ,  0.75024 ],\n",
            "       [ 0.40381 ,  0.65186 ,  0.34375 ],\n",
            "       [ 0.31567 ,  0.74341 ,  0.77222 ],\n",
            "       [ 0.28491 ,  0.58813 ,  1.01636 ],\n",
            "       [ 0.04785 ,  0.69287 ,  0.98438 ],\n",
            "       [-0.45532 ,  0.58081 ,  1.71704 ],\n",
            "       [-1.71924 ,  0.19897 ,  2.58936 ],\n",
            "       [-0.36035 ,  0.02051 ,  2.11157 ],\n",
            "       [ 0.99414 ,  0.22998 ,  2.78174 ],\n",
            "       [ 1.68286 ,  0.15723 ,  2.70093 ],\n",
            "       [ 3.00317 ,  0.56641 ,  1.18604 ],\n",
            "       [ 4.05054 ,  0.33057 , -0.0686  ],\n",
            "       [ 5.16577 , -0.64014 , -0.64429 ],\n",
            "       [ 5.15918 , -3.87134 , -1.04224 ],\n",
            "       [ 3.57837 , -7.37036 , -0.89087 ],\n",
            "       [ 2.52881 , -5.2915  , -1.61523 ],\n",
            "       [ 2.41211 , -2.71411 , -2.57983 ],\n",
            "       [ 2.04712 , -1.90112 , -1.66797 ],\n",
            "       [ 2.45923 , -0.93677 , -1.37305 ],\n",
            "       [ 2.608275, -0.499515, -1.12891 ],\n",
            "       [ 2.75732 , -0.06226 , -0.88477 ],\n",
            "       [ 2.76147 ,  0.79785 , -0.4541  ],\n",
            "       [ 2.12939 ,  0.89233 ,  0.11743 ],\n",
            "       [ 1.69604 ,  0.86475 ,  0.57031 ],\n",
            "       [ 1.41504 ,  0.73145 ,  0.78296 ],\n",
            "       [ 1.13965 ,  1.2998  ,  0.64722 ],\n",
            "       [ 1.23145 ,  2.80054 ,  0.88135 ],\n",
            "       [ 1.54126 ,  3.98926 ,  1.12573 ],\n",
            "       [ 3.33765 ,  4.51904 ,  0.5769  ],\n",
            "       [ 6.02881 ,  4.40625 ,  0.16382 ],\n",
            "       [ 6.35864 ,  4.79077 ,  0.04834 ],\n",
            "       [ 6.61523 ,  4.01782 ,  0.698   ],\n",
            "       [ 6.77368 ,  2.86572 ,  0.58911 ],\n",
            "       [ 5.08301 ,  3.66553 , -0.49316 ],\n",
            "       [ 3.56274 ,  3.67505 , -0.57861 ],\n",
            "       [ 2.49292 ,  3.46436 , -0.81055 ],\n",
            "       [ 1.55542 ,  3.4624  , -1.2561  ],\n",
            "       [ 0.97925 ,  2.84033 , -1.27222 ]]), array([[ 0.11157,  0.77417, -0.85791],\n",
            "       [ 0.20264,  0.61572, -0.73218],\n",
            "       [ 0.22974,  0.48193, -0.73853],\n",
            "       ...,\n",
            "       [ 0.67065, -0.21509, -0.552  ],\n",
            "       [ 1.11792,  0.32251, -1.73462],\n",
            "       [ 1.23975,  0.81079, -2.42651]]), array([[ 2.25171,  1.84668,  0.4187 ],\n",
            "       [ 1.34717,  1.80859, -0.16992],\n",
            "       [ 1.29639,  1.54175,  0.1792 ],\n",
            "       ...,\n",
            "       [ 0.87085,  2.24243, -3.62012],\n",
            "       [-0.93018,  3.34058, -0.42969],\n",
            "       [-1.18359,  2.38452, -1.74268]])]\n",
            "['jumping', 'running', 'jumping', 'walking', 'running']\n",
            "['ac59', 'ac59', 'ac59', 'ac59', 'ac59']\n"
          ]
        }
      ],
      "source": [
        "import csv\n",
        "import os\n",
        "import json\n",
        "import numpy as np\n",
        "\n",
        "def load_data(nom_dossier=\".\"):\n",
        "    \"\"\"\n",
        "    Fonction de chargement des données\n",
        "    Attention : Utilise les librairies csv et json. S'assurer que le répertoire de travail est celui où se trouve\n",
        "    la fonction data_loading.py (sans déplacer les différents fichiers)\n",
        "    \"\"\"\n",
        "\n",
        "    info_obs = {}\n",
        "    users = []\n",
        "\n",
        "    print(\"-- chargement des fichiers csv (observations + labels) --\")\n",
        "    dataset = []\n",
        "    user_ids = []\n",
        "    labels = []\n",
        "    for dir_files in os.listdir(nom_dossier):\n",
        "        if os.path.isfile(nom_dossier + \"/\" + dir_files) and dir_files[-3:]=='csv':\n",
        "            user_id = dir_files.split('_')[0]\n",
        "            print(\"Data \", user_id)\n",
        "            users.append(user_id)\n",
        "            cur_series = []\n",
        "            cur_labels = []\n",
        "            with open(nom_dossier + \"/\" + dir_files, newline='') as csvfile:\n",
        "                spamreader = csv.reader(csvfile, delimiter=',', quotechar='\\'')\n",
        "                for i,row in enumerate(spamreader):\n",
        "                    if i==0:\n",
        "                        info_obs['observations'] = row[2:5]\n",
        "                        info_obs['labels'] = row[7]\n",
        "                    else:\n",
        "                        cur_series.append([float(v) for v in row[2:5]])\n",
        "                        cur_labels.append(row[7])\n",
        "            segmented_series = []\n",
        "            segmented_labels = []\n",
        "            cur_lab = \"not_labeled\"\n",
        "            cur_ser = []\n",
        "            for i, (v, l) in enumerate(zip(cur_series, cur_labels)):\n",
        "                if l != cur_lab:\n",
        "                    if cur_lab != \"not_labeled\":\n",
        "                        segmented_series.append(np.array(cur_ser))\n",
        "                        segmented_labels.append(cur_lab)\n",
        "                    cur_ser = []\n",
        "                    cur_lab = l\n",
        "                if l != \"not_labeled\":\n",
        "                    cur_ser.append(v)\n",
        "        dataset.extend(segmented_series)\n",
        "        labels.extend(segmented_labels)\n",
        "        user_ids.extend([user_id] * len(segmented_series))\n",
        "\n",
        "\n",
        "    print(\"-- chargement du fichier json (meta données) --\")\n",
        "    # Opening JSON file\n",
        "    f = open(os.path.join(nom_dossier, 'meta.json'))\n",
        "    # returns JSON object as a dictionary\n",
        "    tmp_meta_data = json.load(f)\n",
        "    meta_data = {}\n",
        "    for origin in tmp_meta_data:\n",
        "        for user_id, user_info in tmp_meta_data[origin].items():\n",
        "            meta_data[user_id] = user_info\n",
        "            meta_data[user_id]['origin'] = origin\n",
        "    # Closing file\n",
        "    f.close()\n",
        "\n",
        "    return dataset, labels, user_ids  # info_obs, meta_data\n",
        "\n",
        "print(\"Lecture des données\")\n",
        "data_obs, data_labels, user_ids = load_data(\"Apprentissage-profond/hangtime_har/\")\n",
        "print(\"Données chargées\")\n",
        "\n",
        "print(data_obs[:5])\n",
        "print(data_labels[:5])\n",
        "print(user_ids[:5])"
      ]
    },
    {
      "cell_type": "markdown",
      "metadata": {
        "id": "QsuJtBrdYGvP"
      },
      "source": [
        "## Création d'un jeu de données de test et d'un jeu d'entrainement"
      ]
    },
    {
      "cell_type": "markdown",
      "metadata": {
        "id": "2lTFdWbiYGvP"
      },
      "source": [
        "Dans un premier temps, on va se charger de séparer nos données en un jeu d'entrainement et un jeu de test. Pour ce faire, on va séparer chacun des tests de chacun des individus en gardant 80 % des tests de chacun des individus comme des données d'entrainements et 20 % restants comme des données de test"
      ]
    },
    {
      "cell_type": "code",
      "execution_count": 6,
      "metadata": {
        "id": "6viYXWV9YGvQ",
        "outputId": "82c86e57-aaf1-433e-fc2e-8fd5f296adaa",
        "colab": {
          "base_uri": "https://localhost:8080/"
        }
      },
      "outputs": [
        {
          "output_type": "stream",
          "name": "stdout",
          "text": [
            "Taille de l'ensemble d'entraînement : 9329\n",
            "Taille de l'ensemble de test : 2340\n"
          ]
        }
      ],
      "source": [
        "from sklearn.model_selection import train_test_split\n",
        "\n",
        "unique_users = list(set(user_ids))\n",
        "\n",
        "data_obs_train = []\n",
        "data_obs_test = []\n",
        "data_labels_train = []\n",
        "data_labels_test = []\n",
        "user_ids_train = []\n",
        "user_ids_test = []\n",
        "\n",
        "#Pour chaque utilisateur, on sépare les données en train et test\n",
        "for user in unique_users:\n",
        "    #Extraire les indices correspondant à l'utilisateur\n",
        "    indices_user = [i for i, u_id in enumerate(user_ids) if u_id == user]\n",
        "\n",
        "    #Diviser les indices en train et test\n",
        "    indices_train, indices_test = train_test_split(indices_user, test_size=0.2, random_state=42)\n",
        "\n",
        "    #Ajouter les données d'entrainements\n",
        "    data_obs_train.extend([data_obs[i] for i in indices_train])\n",
        "    data_labels_train.extend([data_labels[i] for i in indices_train])\n",
        "    user_ids_train.extend([user_ids[i] for i in indices_train])\n",
        "\n",
        "    #Ajouter les données de test\n",
        "    data_obs_test.extend([data_obs[i] for i in indices_test])\n",
        "    data_labels_test.extend([data_labels[i] for i in indices_test])\n",
        "    user_ids_test.extend([user_ids[i] for i in indices_test])\n",
        "\n",
        "#Vérifier que les données sont bien séparées\n",
        "print(\"Taille de l'ensemble d'entraînement :\", len(data_obs_train))\n",
        "print(\"Taille de l'ensemble de test :\", len(data_obs_test))"
      ]
    },
    {
      "cell_type": "markdown",
      "metadata": {
        "id": "6Pf_bI9hYGvQ"
      },
      "source": [
        "Analyse du nombre de classes de y dans le jeu de test et dans le jeu d'apprentissage :"
      ]
    },
    {
      "cell_type": "code",
      "execution_count": 7,
      "metadata": {
        "id": "11wzKFb9YGvQ",
        "outputId": "87e07a4c-29a0-4ba5-c8e0-29354a95ba4b",
        "colab": {
          "base_uri": "https://localhost:8080/"
        }
      },
      "outputs": [
        {
          "output_type": "stream",
          "name": "stdout",
          "text": [
            "Il y a  5  classes dans les données d'entraînement\n",
            "Il y a  5  classes dans les données de test\n",
            "Il y a  5  classes dans les données totales\n",
            "dif label en entrainement :  ['jumping' 'running' 'sitting' 'standing' 'walking']\n",
            "dif label en test :  ['jumping' 'running' 'sitting' 'standing' 'walking']\n",
            "dif label au total :  ['jumping' 'running' 'sitting' 'standing' 'walking']\n"
          ]
        }
      ],
      "source": [
        "print('Il y a ', len(np.unique(data_labels_train)), ' classes dans les données d\\'entraînement')\n",
        "print('Il y a ', len(np.unique(data_labels_test)), ' classes dans les données de test')\n",
        "print('Il y a ', len(np.unique(data_labels)), ' classes dans les données totales')\n",
        "\n",
        "print('dif label en entrainement : ', np.unique(data_labels_train))\n",
        "print('dif label en test : ',np.unique(data_labels_test))\n",
        "print('dif label au total : ',np.unique(data_labels))"
      ]
    },
    {
      "cell_type": "markdown",
      "metadata": {
        "id": "HiWaMC9dYGvQ"
      },
      "source": [
        "Les labels sont bien les mêmes dans les jeux d'entrainements et de tests et correspondent bien à ceux du jeu de base"
      ]
    },
    {
      "cell_type": "markdown",
      "metadata": {
        "id": "NXnBHlh6YGvQ"
      },
      "source": [
        "## Normalisation des données"
      ]
    },
    {
      "cell_type": "code",
      "execution_count": 8,
      "metadata": {
        "id": "CQn7rqTJYGvR"
      },
      "outputs": [],
      "source": [
        "from sklearn.preprocessing import MinMaxScaler\n",
        "\n",
        "scaler = MinMaxScaler()\n",
        "data_obs_train_Norm = [scaler.fit_transform(obs) for obs in data_obs_train]\n",
        "data_obs_test_Norm = [scaler.fit_transform(obs) for obs in data_obs_test]"
      ]
    },
    {
      "cell_type": "markdown",
      "metadata": {
        "id": "y8MQz3MnYGvR"
      },
      "source": [
        "## Longueur de chaque série temporelle"
      ]
    },
    {
      "cell_type": "markdown",
      "metadata": {
        "id": "V_-nJAfMYGvR"
      },
      "source": [
        "Dans notre cas, il serait préférables d'avoir des séquences de tailles identiques ( plus simple pour la convergence des informations)  \n",
        "On va donc chercher à rajouter du padding (séries de 0 pour complémenter le manque d elongueur sur certaines séquences) ou a réaliser du troncage (garder uniquement la partie la plus importante de chaque série pour obtenir des informations de même taille)"
      ]
    },
    {
      "cell_type": "code",
      "execution_count": 9,
      "metadata": {
        "id": "7Z2nPSCVYGvR",
        "outputId": "09ca797e-0312-4560-bcc0-f44645370ae3",
        "colab": {
          "base_uri": "https://localhost:8080/"
        }
      },
      "outputs": [
        {
          "output_type": "stream",
          "name": "stdout",
          "text": [
            "Longueur de la séquence 1: 66\n",
            "Longueur de la séquence 2: 27\n",
            "Longueur de la séquence 3: 31\n",
            "Longueur de la séquence 4: 314\n",
            "Longueur de la séquence 5: 273\n"
          ]
        }
      ],
      "source": [
        "num_sequences = len(data_obs_train_Norm)\n",
        "\n",
        "# Afficher la longueur de chaque séquence\n",
        "for i in range(min(5,num_sequences)):\n",
        "    print(f\"Longueur de la séquence {i + 1}: {len(data_obs_train[i])}\")"
      ]
    },
    {
      "cell_type": "markdown",
      "metadata": {
        "id": "m1rSDL4vYGvS"
      },
      "source": [
        "#### Jeu de données d'entrainement"
      ]
    },
    {
      "cell_type": "code",
      "execution_count": 10,
      "metadata": {
        "id": "Tr8nsaPIYGvS",
        "outputId": "ac17449a-16cb-4b09-c799-08a9687c6589",
        "colab": {
          "base_uri": "https://localhost:8080/",
          "height": 525
        }
      },
      "outputs": [
        {
          "output_type": "display_data",
          "data": {
            "text/plain": [
              "<Figure size 640x480 with 1 Axes>"
            ],
            "image/png": "[encoded data removed]"
          },
          "metadata": {}
        },
        {
          "output_type": "stream",
          "name": "stdout",
          "text": [
            "Longueur minimale : 1\n",
            "Longueur maximale : 46004\n",
            "Longueur moyenne : 472.4638224890127\n"
          ]
        }
      ],
      "source": [
        "import matplotlib.pyplot as plt\n",
        "\n",
        "# Calculer la longueur de chaque séquence\n",
        "sequence_lengths = [len(seq) for seq in data_obs_train]\n",
        "\n",
        "bins = np.arange(0, 1000, 50)\n",
        "# Afficher un histogramme\n",
        "plt.hist(sequence_lengths, bins=bins, edgecolor='black')\n",
        "plt.title('Distribution des longueurs des séquences pour le jeu d\\'entrainements')\n",
        "plt.xlabel('Longueur de la séquence')\n",
        "plt.ylabel('Fréquence')\n",
        "plt.show()\n",
        "\n",
        "min_length = min(sequence_lengths)\n",
        "max_length = max(sequence_lengths)\n",
        "mean_length = np.mean(sequence_lengths)\n",
        "\n",
        "print(f\"Longueur minimale : {min_length}\")\n",
        "print(f\"Longueur maximale : {max_length}\")\n",
        "print(f\"Longueur moyenne : {mean_length}\")"
      ]
    },
    {
      "cell_type": "markdown",
      "metadata": {
        "id": "I3b7cXuVYGvS"
      },
      "source": [
        "#### Jeu de données de test"
      ]
    },
    {
      "cell_type": "code",
      "execution_count": 11,
      "metadata": {
        "id": "unBmbGYUYGvS",
        "outputId": "adf0c678-9aa2-483f-91a1-adffb9d2559a",
        "colab": {
          "base_uri": "https://localhost:8080/",
          "height": 525
        }
      },
      "outputs": [
        {
          "output_type": "display_data",
          "data": {
            "text/plain": [
              "<Figure size 640x480 with 1 Axes>"
            ],
            "image/png": "[encoded data removed]"
          },
          "metadata": {}
        },
        {
          "output_type": "stream",
          "name": "stdout",
          "text": [
            "Longueur minimale : 11\n",
            "Longueur maximale : 13780\n",
            "Longueur moyenne : 451.2401709401709\n"
          ]
        }
      ],
      "source": [
        "import matplotlib.pyplot as plt\n",
        "\n",
        "# Calculer la longueur de chaque séquence\n",
        "sequence_lengths = [len(seq) for seq in data_obs_test]\n",
        "\n",
        "bins = np.arange(0, 1000, 50)\n",
        "# Afficher un histogramme\n",
        "plt.hist(sequence_lengths, bins=bins, edgecolor='black')\n",
        "plt.title('Distribution des longueurs des séquences pour le jeu de test')\n",
        "plt.xlabel('Longueur de la séquence')\n",
        "plt.ylabel('Fréquence')\n",
        "plt.show()\n",
        "\n",
        "min_length = min(sequence_lengths)\n",
        "max_length = max(sequence_lengths)\n",
        "mean_length = np.mean(sequence_lengths)\n",
        "\n",
        "print(f\"Longueur minimale : {min_length}\")\n",
        "print(f\"Longueur maximale : {max_length}\")\n",
        "print(f\"Longueur moyenne : {mean_length}\")"
      ]
    },
    {
      "cell_type": "markdown",
      "metadata": {
        "id": "GwzEE7qZYGvS"
      },
      "source": [
        "Pour être sur de ne pas se tromper on va créer les deux manières et on comparera pour chacun des test les deux manières de faire"
      ]
    },
    {
      "cell_type": "markdown",
      "metadata": {
        "id": "vYF0e9AfYGvS"
      },
      "source": [
        "## Padding"
      ]
    },
    {
      "cell_type": "markdown",
      "source": [
        "Test avec padding = 1000 (au dessus très peu d'actions sont plus longue et cela accentue nettemment le temps de traitement)"
      ],
      "metadata": {
        "id": "bP2Xq26Cbp18"
      }
    },
    {
      "cell_type": "code",
      "execution_count": 12,
      "metadata": {
        "id": "lyvwyV6aYGvS"
      },
      "outputs": [],
      "source": [
        "from tensorflow.keras.preprocessing.sequence import pad_sequences\n",
        "\n",
        "data_obs_train_Norm_pad = []\n",
        "max_sequences_length = max(len(seq) for seq in data_obs_train_Norm)\n",
        "data_obs_train_Norm_pad = pad_sequences(data_obs_train_Norm, maxlen=1000, padding='post', dtype='float32')\n",
        "\n",
        "data_obs_test_Norm_pad = []\n",
        "max_sequences_length_test = max(len(seq) for seq in data_obs_test_Norm)\n",
        "data_obs_test_Norm_pad = pad_sequences(data_obs_test_Norm, maxlen=1000, padding='post', dtype='float32')\n"
      ]
    },
    {
      "cell_type": "markdown",
      "metadata": {
        "id": "yJ29q4tiYGvT"
      },
      "source": [
        "## Encodage des labels"
      ]
    },
    {
      "cell_type": "code",
      "execution_count": 13,
      "metadata": {
        "id": "oNkKZXiSYGvT",
        "outputId": "59658fb1-1369-461e-f8d9-a88c23651b78",
        "colab": {
          "base_uri": "https://localhost:8080/"
        }
      },
      "outputs": [
        {
          "output_type": "stream",
          "name": "stdout",
          "text": [
            "(9329, 5)\n"
          ]
        },
        {
          "output_type": "stream",
          "name": "stderr",
          "text": [
            "/usr/local/lib/python3.10/dist-packages/sklearn/preprocessing/_encoders.py:868: FutureWarning: `sparse` was renamed to `sparse_output` in version 1.2 and will be removed in 1.4. `sparse_output` is ignored unless you leave `sparse` to its default value.\n",
            "  warnings.warn(\n",
            "/usr/local/lib/python3.10/dist-packages/sklearn/preprocessing/_encoders.py:868: FutureWarning: `sparse` was renamed to `sparse_output` in version 1.2 and will be removed in 1.4. `sparse_output` is ignored unless you leave `sparse` to its default value.\n",
            "  warnings.warn(\n"
          ]
        }
      ],
      "source": [
        "from sklearn.preprocessing import LabelEncoder, OneHotEncoder\n",
        "\n",
        "#Encoder les labels en entiers\n",
        "labels_encoder = LabelEncoder()\n",
        "labels_train_int = labels_encoder.fit_transform(data_labels_train)\n",
        "labels_test_int = labels_encoder.fit_transform(data_labels_test)\n",
        "\n",
        "#Encoder les labels en one-hot\n",
        "labels_onehot = OneHotEncoder(sparse=False, categories='auto')\n",
        "labels_train_onehot = labels_onehot.fit_transform(labels_train_int.reshape(-1, 1))\n",
        "labels_test_onehot = labels_onehot.fit_transform(labels_test_int.reshape(-1, 1))\n",
        "\n",
        "print(labels_train_onehot.shape)"
      ]
    },
    {
      "cell_type": "markdown",
      "metadata": {
        "id": "Q4_2D0EBYGvT"
      },
      "source": [
        "## Modèle à tester et comparer"
      ]
    },
    {
      "cell_type": "markdown",
      "metadata": {
        "id": "CH8vlkwfYGvT"
      },
      "source": [
        "##### Avec Padding  \n",
        "  \n",
        "1. RNN\n",
        "2. CNN\n",
        "3. CNN 1D\n",
        "\n",
        "##### Sans Padding  \n",
        "  \n",
        "1. CNN avec GAP  \n",
        "2. Réseau de neurones Transformer  \n",
        "3. Réseaux de neurones Attention  \n",
        "4. Réseaux de neurones Hybrides  \n"
      ]
    },
    {
      "cell_type": "markdown",
      "metadata": {
        "id": "u4qG0VAPYGvT"
      },
      "source": [
        "### Réseau RNN"
      ]
    },
    {
      "cell_type": "code",
      "execution_count": 28,
      "metadata": {
        "id": "DKCfLrRrYGvT"
      },
      "outputs": [],
      "source": [
        "from tensorflow.keras.models import Sequential, Model\n",
        "from tensorflow.keras.layers import SimpleRNN, Dense, Flatten, Input\n",
        "from keras.callbacks import EarlyStopping\n",
        "\n",
        "cb = EarlyStopping(monitor='val_loss',patience=5, min_delta=0.01, restore_best_weights=True, verbose=2)\n",
        "\n",
        "\n",
        "def model_rnn_basique(T, D, nb_classes):\n",
        "  input = Input(shape = (T, D))\n",
        "  Couche_rec = SimpleRNN(64)(input)\n",
        "  dense1 = Dense(nb_classes, activation = \"sigmoid\")(Couche_rec)\n",
        "  model = Model(inputs=input, outputs=dense1)\n",
        "  model.compile(optimizer = 'adam', loss = 'categorical_crossentropy',metrics=[\"accuracy\"])\n",
        "  model.summary()\n",
        "  return model\n"
      ]
    },
    {
      "cell_type": "code",
      "execution_count": 29,
      "metadata": {
        "id": "iTGJUg9wYGvT",
        "colab": {
          "base_uri": "https://localhost:8080/"
        },
        "outputId": "37d507f3-6303-42bb-ec7e-329e4c3c6e52"
      },
      "outputs": [
        {
          "output_type": "stream",
          "name": "stdout",
          "text": [
            "Model: \"model_5\"\n",
            "_________________________________________________________________\n",
            " Layer (type)                Output Shape              Param #   \n",
            "=================================================================\n",
            " input_6 (InputLayer)        [(None, 1000, 3)]         0         \n",
            "                                                                 \n",
            " simple_rnn_5 (SimpleRNN)    (None, 64)                4352      \n",
            "                                                                 \n",
            " dense_5 (Dense)             (None, 5)                 325       \n",
            "                                                                 \n",
            "=================================================================\n",
            "Total params: 4677 (18.27 KB)\n",
            "Trainable params: 4677 (18.27 KB)\n",
            "Non-trainable params: 0 (0.00 Byte)\n",
            "_________________________________________________________________\n"
          ]
        }
      ],
      "source": [
        "model_rnn = model_rnn_basique(1000, 3, 5)"
      ]
    },
    {
      "cell_type": "code",
      "source": [
        "history_rnn = model_rnn.fit(data_obs_train_Norm_pad, labels_train_onehot, epochs=10, batch_size=32, validation_data=(data_obs_test_Norm_pad, labels_test_onehot),  callbacks=[cb])"
      ],
      "metadata": {
        "colab": {
          "base_uri": "https://localhost:8080/"
        },
        "id": "xzV6TDwzZ4C8",
        "outputId": "7fb81bbd-2f49-4328-9263-cd6eb0e8d346"
      },
      "execution_count": 30,
      "outputs": [
        {
          "output_type": "stream",
          "name": "stdout",
          "text": [
            "Epoch 1/10\n",
            "292/292 [==============================] - 30s 101ms/step - loss: 1.3093 - accuracy: 0.3645 - val_loss: 1.2833 - val_accuracy: 0.3846\n",
            "Epoch 2/10\n",
            "292/292 [==============================] - 30s 104ms/step - loss: 1.2706 - accuracy: 0.3755 - val_loss: 1.2769 - val_accuracy: 0.3850\n",
            "Epoch 3/10\n",
            "292/292 [==============================] - 30s 102ms/step - loss: 1.2673 - accuracy: 0.3702 - val_loss: 1.2759 - val_accuracy: 0.3850\n",
            "Epoch 4/10\n",
            "292/292 [==============================] - 29s 100ms/step - loss: 1.2660 - accuracy: 0.3754 - val_loss: 1.2721 - val_accuracy: 0.3850\n",
            "Epoch 5/10\n",
            "292/292 [==============================] - 31s 105ms/step - loss: 1.2675 - accuracy: 0.3746 - val_loss: 1.2753 - val_accuracy: 0.3397\n",
            "Epoch 6/10\n",
            "292/292 [==============================] - 30s 103ms/step - loss: 1.2641 - accuracy: 0.3795 - val_loss: 1.2693 - val_accuracy: 0.3850\n",
            "Epoch 7/10\n",
            "292/292 [==============================] - 29s 100ms/step - loss: 1.2655 - accuracy: 0.3735 - val_loss: 1.2693 - val_accuracy: 0.3850\n",
            "Epoch 8/10\n",
            "292/292 [==============================] - 31s 105ms/step - loss: 1.2647 - accuracy: 0.3786 - val_loss: 1.2741 - val_accuracy: 0.3850\n",
            "Epoch 9/10\n",
            "292/292 [==============================] - ETA: 0s - loss: 1.2621 - accuracy: 0.3798Restoring model weights from the end of the best epoch: 4.\n",
            "292/292 [==============================] - 29s 100ms/step - loss: 1.2621 - accuracy: 0.3798 - val_loss: 1.2677 - val_accuracy: 0.3850\n",
            "Epoch 9: early stopping\n"
          ]
        }
      ]
    },
    {
      "cell_type": "markdown",
      "source": [
        "### Réseau RNN avancé"
      ],
      "metadata": {
        "id": "p3d1FzmUfm3T"
      }
    },
    {
      "cell_type": "code",
      "source": [
        "def model_rnn_avance(T, D, nb_classes):\n",
        "  input = Input(shape = (T, D))\n",
        "  Couche_rec = SimpleRNN(64, return_sequences=True)(input)\n",
        "  Couche_rec2 = SimpleRNN(32)(Couche_rec)\n",
        "  dense1 = Dense(nb_classes, activation = \"sigmoid\")(Couche_rec2)\n",
        "  model = Model(inputs=input, outputs=dense1)\n",
        "  model.compile(optimizer = 'adam', loss = 'categorical_crossentropy',metrics=[\"accuracy\"])\n",
        "  model.summary()\n",
        "  return model\n",
        "\n"
      ],
      "metadata": {
        "id": "0GK8nS1Yf0Ma"
      },
      "execution_count": 42,
      "outputs": []
    },
    {
      "cell_type": "code",
      "source": [
        "model_rnn_avance = model_rnn_avance(1000, 3, 5)\n",
        "history_rnn_avance = model_rnn_avance.fit(data_obs_train_Norm_pad, labels_train_onehot, epochs=10, batch_size=100, validation_data=(data_obs_test_Norm_pad, labels_test_onehot),  callbacks=[cb])"
      ],
      "metadata": {
        "colab": {
          "base_uri": "https://localhost:8080/"
        },
        "id": "qViKX50FgXZn",
        "outputId": "ad0d73df-de3d-4555-cf3b-b8ed640e301f"
      },
      "execution_count": 43,
      "outputs": [
        {
          "output_type": "stream",
          "name": "stdout",
          "text": [
            "Model: \"model_6\"\n",
            "_________________________________________________________________\n",
            " Layer (type)                Output Shape              Param #   \n",
            "=================================================================\n",
            " input_7 (InputLayer)        [(None, 1000, 3)]         0         \n",
            "                                                                 \n",
            " simple_rnn_6 (SimpleRNN)    (None, 1000, 64)          4352      \n",
            "                                                                 \n",
            " simple_rnn_7 (SimpleRNN)    (None, 32)                3104      \n",
            "                                                                 \n",
            " dense_6 (Dense)             (None, 5)                 165       \n",
            "                                                                 \n",
            "=================================================================\n",
            "Total params: 7621 (29.77 KB)\n",
            "Trainable params: 7621 (29.77 KB)\n",
            "Non-trainable params: 0 (0.00 Byte)\n",
            "_________________________________________________________________\n",
            "Epoch 1/10\n",
            "94/94 [==============================] - 31s 319ms/step - loss: 1.3121 - accuracy: 0.3605 - val_loss: 1.2706 - val_accuracy: 0.3850\n",
            "Epoch 2/10\n",
            "94/94 [==============================] - 31s 330ms/step - loss: 1.2671 - accuracy: 0.3831 - val_loss: 1.2772 - val_accuracy: 0.3850\n",
            "Epoch 3/10\n",
            "94/94 [==============================] - 30s 316ms/step - loss: 1.2656 - accuracy: 0.3706 - val_loss: 1.2660 - val_accuracy: 0.3850\n",
            "Epoch 4/10\n",
            "94/94 [==============================] - 30s 322ms/step - loss: 1.2624 - accuracy: 0.3776 - val_loss: 1.2673 - val_accuracy: 0.3855\n",
            "Epoch 5/10\n",
            "94/94 [==============================] - 31s 328ms/step - loss: 1.2625 - accuracy: 0.3780 - val_loss: 1.2667 - val_accuracy: 0.3850\n",
            "Epoch 6/10\n",
            "94/94 [==============================] - ETA: 0s - loss: 1.2614 - accuracy: 0.3773Restoring model weights from the end of the best epoch: 1.\n",
            "94/94 [==============================] - 30s 315ms/step - loss: 1.2614 - accuracy: 0.3773 - val_loss: 1.2662 - val_accuracy: 0.3850\n",
            "Epoch 6: early stopping\n"
          ]
        }
      ]
    },
    {
      "cell_type": "markdown",
      "source": [
        "### Modèle LTSM"
      ],
      "metadata": {
        "id": "--18E41GhoZj"
      }
    },
    {
      "cell_type": "code",
      "source": [
        "# Definition du modèle\n",
        "from tensorflow.keras.layers import Input, Dense, SimpleRNN, LSTM, Flatten\n",
        "def model_lstm(T, D, nb_classes):\n",
        "  input = Input(shape = (T, D))\n",
        "  Couche_rec = LSTM(64, return_sequences=True)(input)\n",
        "  Couche_rec2 = LSTM(32)(Couche_rec)\n",
        "  dense1 = Dense(nb_classes, activation = \"sigmoid\")(Couche_rec2)\n",
        "  model = Model(inputs=input, outputs=dense1)\n",
        "  model.compile(optimizer = 'adam', loss = 'categorical_crossentropy',metrics=[\"accuracy\"])\n",
        "  model.summary()\n",
        "  return model"
      ],
      "metadata": {
        "id": "UGusfw5zhq-F"
      },
      "execution_count": 50,
      "outputs": []
    },
    {
      "cell_type": "code",
      "source": [
        "model_lstm = model_lstm(1000, 3, 5)\n",
        "history_lstm = model_lstm.fit(data_obs_train_Norm_pad, labels_train_onehot, epochs=10, batch_size=100, validation_data=(data_obs_test_Norm_pad, labels_test_onehot),  callbacks=[cb])"
      ],
      "metadata": {
        "colab": {
          "base_uri": "https://localhost:8080/"
        },
        "id": "qOz7S9M4hxH7",
        "outputId": "3a87d66f-698c-4b70-94d2-f59f5db2a4ad"
      },
      "execution_count": 51,
      "outputs": [
        {
          "output_type": "stream",
          "name": "stdout",
          "text": [
            "Model: \"model_7\"\n",
            "_________________________________________________________________\n",
            " Layer (type)                Output Shape              Param #   \n",
            "=================================================================\n",
            " input_8 (InputLayer)        [(None, 1000, 3)]         0         \n",
            "                                                                 \n",
            " lstm (LSTM)                 (None, 1000, 64)          17408     \n",
            "                                                                 \n",
            " lstm_1 (LSTM)               (None, 32)                12416     \n",
            "                                                                 \n",
            " dense_7 (Dense)             (None, 5)                 165       \n",
            "                                                                 \n",
            "=================================================================\n",
            "Total params: 29989 (117.14 KB)\n",
            "Trainable params: 29989 (117.14 KB)\n",
            "Non-trainable params: 0 (0.00 Byte)\n",
            "_________________________________________________________________\n",
            "Epoch 1/10\n",
            "94/94 [==============================] - 116s 1s/step - loss: 1.3480 - accuracy: 0.3722 - val_loss: 1.3055 - val_accuracy: 0.3556\n",
            "Epoch 2/10\n",
            "94/94 [==============================] - 103s 1s/step - loss: 1.3008 - accuracy: 0.3516 - val_loss: 1.2963 - val_accuracy: 0.3397\n",
            "Epoch 3/10\n",
            "94/94 [==============================] - 103s 1s/step - loss: 1.2887 - accuracy: 0.3726 - val_loss: 1.2765 - val_accuracy: 0.3897\n",
            "Epoch 4/10\n",
            "94/94 [==============================] - 103s 1s/step - loss: 1.2713 - accuracy: 0.3857 - val_loss: 1.2638 - val_accuracy: 0.4043\n",
            "Epoch 5/10\n",
            "94/94 [==============================] - 103s 1s/step - loss: 1.2695 - accuracy: 0.3766 - val_loss: 1.2700 - val_accuracy: 0.3859\n",
            "Epoch 6/10\n",
            "94/94 [==============================] - 102s 1s/step - loss: 1.2625 - accuracy: 0.3785 - val_loss: 1.2705 - val_accuracy: 0.3863\n",
            "Epoch 7/10\n",
            "94/94 [==============================] - 103s 1s/step - loss: 1.2875 - accuracy: 0.3710 - val_loss: 1.2918 - val_accuracy: 0.3556\n",
            "Epoch 8/10\n",
            "94/94 [==============================] - 109s 1s/step - loss: 1.2704 - accuracy: 0.3762 - val_loss: 1.2696 - val_accuracy: 0.3855\n",
            "Epoch 9/10\n",
            "94/94 [==============================] - ETA: 0s - loss: 1.2630 - accuracy: 0.3800Restoring model weights from the end of the best epoch: 4.\n",
            "94/94 [==============================] - 102s 1s/step - loss: 1.2630 - accuracy: 0.3800 - val_loss: 1.2697 - val_accuracy: 0.3859\n",
            "Epoch 9: early stopping\n"
          ]
        }
      ]
    },
    {
      "cell_type": "markdown",
      "source": [
        "## Graphique de comparaison"
      ],
      "metadata": {
        "id": "1ofI8NnubSNk"
      }
    },
    {
      "cell_type": "code",
      "source": [
        "# Visualiser l'évolution de la perte et de la précision au fil des époques\n",
        "import matplotlib.pyplot as plt\n",
        "\n",
        "plt.subplot(1, 2, 1)\n",
        "plt.plot(history_rnn.history['val_loss'], label='RNN simple')\n",
        "plt.plot(history_rnn_avance.history['val_loss'], label='RNN avancé')\n",
        "plt.plot(history_lstm.history['val_loss'], label='LSTM')\n",
        "plt.title('Validation Perte')\n",
        "plt.legend()\n",
        "\n",
        "plt.subplot(1, 2, 2)\n",
        "plt.plot(history_rnn.history['val_accuracy'], label='RNN simple')\n",
        "plt.plot(history_rnn_avance.history['val_accuracy'], label='RNN avancé')\n",
        "plt.plot(history_lstm.history['val_accuracy'], label='LSTM')\n",
        "plt.title('Validation Accuracy')\n",
        "plt.legend()\n",
        "\n",
        "# Ajuster l'espacement entre les sous-graphiques\n",
        "plt.tight_layout()\n",
        "plt.show()"
      ],
      "metadata": {
        "colab": {
          "base_uri": "https://localhost:8080/",
          "height": 487
        },
        "id": "rQcc4d5sbNoA",
        "outputId": "990d31b8-f8a5-4a02-952b-6014f3b7c193"
      },
      "execution_count": 52,
      "outputs": [
        {
          "output_type": "display_data",
          "data": {
            "text/plain": [
              "<Figure size 640x480 with 2 Axes>"
            ],
            "image/png": "[encoded data removed]"
          },
          "metadata": {}
        }
      ]
    }
  ],
  "metadata": {
    "kernelspec": {
      "display_name": ".venv",
      "language": "python",
      "name": "python3"
    },
    "language_info": {
      "codemirror_mode": {
        "name": "ipython",
        "version": 3
      },
      "file_extension": ".py",
      "mimetype": "text/x-python",
      "name": "python",
      "nbconvert_exporter": "python",
      "pygments_lexer": "ipython3",
      "version": "3.11.2"
    },
    "colab": {
      "provenance": [],
      "include_colab_link": true
    }
  },
  "nbformat": 4,
  "nbformat_minor": 0
}